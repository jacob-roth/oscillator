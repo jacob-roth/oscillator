{
 "cells": [
  {
   "cell_type": "code",
   "execution_count": 13,
   "metadata": {},
   "outputs": [
    {
     "data": {
      "text/plain": [
       "compare_results (generic function with 1 method)"
      ]
     },
     "execution_count": 13,
     "metadata": {},
     "output_type": "execute_result"
    }
   ],
   "source": [
    "include(\"mfpt.jl\")"
   ]
  },
  {
   "cell_type": "code",
   "execution_count": 12,
   "metadata": {},
   "outputs": [
    {
     "data": {
      "text/plain": [
       "Params(0.001, 0.25, 2.0, 1234, 1.0, 1.0, 0.0)"
      ]
     },
     "execution_count": 12,
     "metadata": {},
     "output_type": "execute_result"
    }
   ],
   "source": [
    "seed = 1234\n",
    "tau = 0.25\n",
    "h = 0.001\n",
    "k = 1.0\n",
    "m = 1.0\n",
    "gamma = 2.0\n",
    "limit = 0.0\n",
    "nsteps = Int64(1e7)\n",
    "nsims = 50\n",
    "q0 = -1.0\n",
    "p0 = 0.0\n",
    "qt = copy(limit)\n",
    "S0 = State(q=q0, p=p0, t=0.0)\n",
    "C = Cache()\n",
    "P = Params(seed=seed, tau=tau, h=h, k=k, m=m, gamma=gamma, limit=limit)"
   ]
  },
  {
   "cell_type": "code",
   "execution_count": 4,
   "metadata": {},
   "outputs": [
    {
     "data": {
      "text/plain": [
       "0.001"
      ]
     },
     "execution_count": 4,
     "metadata": {},
     "output_type": "execute_result"
    }
   ],
   "source": [
    "P.h"
   ]
  },
  {
   "cell_type": "code",
   "execution_count": 14,
   "metadata": {},
   "outputs": [
    {
     "name": "stdout",
     "output_type": "stream",
     "text": [
      "  2.062091 seconds (60.52 M allocations: 1.218 GiB, 22.44% gc time)\n",
      "PyCall.PyObject[PyObject <matplotlib.patches.Rectangle object at 0x15b16bb70>, PyObject <matplotlib.patches.Rectangle object at 0x15b16bb00>, PyObject <matplotlib.patches.Rectangle object at 0x1403abcf8>, PyObject <matplotlib.patches.Rectangle object at 0x1403ab978>, PyObject <matplotlib.patches.Rectangle object at 0x1403ab908>, PyObject <matplotlib.patches.Rectangle object at 0x1403ab5c0>, PyObject <matplotlib.patches.Rectangle object at 0x1403ab128>, PyObject <matplotlib.patches.Rectangle object at 0x140398e10>, PyObject <matplotlib.patches.Rectangle object at 0x169e16630>, PyObject <matplotlib.patches.Rectangle object at 0x169e16be0>, PyObject <matplotlib.patches.Rectangle object at 0x169e16a20>, PyObject <matplotlib.patches.Rectangle object at 0x169e169e8>, PyObject <matplotlib.patches.Rectangle object at 0x169e164e0>, PyObject <matplotlib.patches.Rectangle object at 0x15b0e6e10>, PyObject <matplotlib.patches.Rectangle object at 0x15b0e65f8>, PyObject <matplotlib.patches.Rectangle object at 0x15b0e6198>, PyObject <matplotlib.patches.Rectangle object at 0x15b0e6160>, PyObject <matplotlib.patches.Rectangle object at 0x1403bd908>, PyObject <matplotlib.patches.Rectangle object at 0x1403bdb38>, PyObject <matplotlib.patches.Rectangle object at 0x1403bd748>, PyObject <matplotlib.patches.Rectangle object at 0x1403bd128>, PyObject <matplotlib.patches.Rectangle object at 0x1403bd588>, PyObject <matplotlib.patches.Rectangle object at 0x145fbb908>, PyObject <matplotlib.patches.Rectangle object at 0x145fbbc50>, PyObject <matplotlib.patches.Rectangle object at 0x145fbbf98>, PyObject <matplotlib.patches.Rectangle object at 0x145fbbfd0>, PyObject <matplotlib.patches.Rectangle object at 0x160481668>, PyObject <matplotlib.patches.Rectangle object at 0x1604819b0>, PyObject <matplotlib.patches.Rectangle object at 0x160481cf8>, PyObject <matplotlib.patches.Rectangle object at 0x160481e10>, PyObject <matplotlib.patches.Rectangle object at 0x16047b3c8>, PyObject <matplotlib.patches.Rectangle object at 0x16047b710>, PyObject <matplotlib.patches.Rectangle object at 0x16047ba58>, PyObject <matplotlib.patches.Rectangle object at 0x16047bda0>, PyObject <matplotlib.patches.Rectangle object at 0x16047beb8>, PyObject <matplotlib.patches.Rectangle object at 0x160485470>, PyObject <matplotlib.patches.Rectangle object at 0x1604857b8>, PyObject <matplotlib.patches.Rectangle object at 0x160485b00>, PyObject <matplotlib.patches.Rectangle object at 0x160485e48>, PyObject <matplotlib.patches.Rectangle object at 0x160485f60>, PyObject <matplotlib.patches.Rectangle object at 0x15f1ee518>, PyObject <matplotlib.patches.Rectangle object at 0x15f1ee860>, PyObject <matplotlib.patches.Rectangle object at 0x15f1eeba8>, PyObject <matplotlib.patches.Rectangle object at 0x15f1eeef0>, PyObject <matplotlib.patches.Rectangle object at 0x15f1eef28>, PyObject <matplotlib.patches.Rectangle object at 0x15f1cc5c0>, PyObject <matplotlib.patches.Rectangle object at 0x15f1cc908>, PyObject <matplotlib.patches.Rectangle object at 0x15f1ccc50>, PyObject <matplotlib.patches.Rectangle object at 0x15f1ccf98>, PyObject <matplotlib.patches.Rectangle object at 0x15f1ccfd0>, PyObject <matplotlib.patches.Rectangle object at 0x15f1f9668>, PyObject <matplotlib.patches.Rectangle object at 0x15f1f99b0>, PyObject <matplotlib.patches.Rectangle object at 0x15f1f9cf8>, PyObject <matplotlib.patches.Rectangle object at 0x15f1f9e10>, PyObject <matplotlib.patches.Rectangle object at 0x15f2733c8>, PyObject <matplotlib.patches.Rectangle object at 0x15f273710>, PyObject <matplotlib.patches.Rectangle object at 0x15f273a58>, PyObject <matplotlib.patches.Rectangle object at 0x15f273da0>, PyObject <matplotlib.patches.Rectangle object at 0x15f273eb8>, PyObject <matplotlib.patches.Rectangle object at 0x15f26f470>, PyObject <matplotlib.patches.Rectangle object at 0x15f26f7b8>, PyObject <matplotlib.patches.Rectangle object at 0x15f26fb00>, PyObject <matplotlib.patches.Rectangle object at 0x15f26fe48>, PyObject <matplotlib.patches.Rectangle object at 0x15f26ff60>, PyObject <matplotlib.patches.Rectangle object at 0x15f26c518>, PyObject <matplotlib.patches.Rectangle object at 0x15f26c860>, PyObject <matplotlib.patches.Rectangle object at 0x15f26cba8>, PyObject <matplotlib.patches.Rectangle object at 0x15f26cef0>, PyObject <matplotlib.patches.Rectangle object at 0x15f26cf28>, PyObject <matplotlib.patches.Rectangle object at 0x145fc15c0>, PyObject <matplotlib.patches.Rectangle object at 0x145fc1908>, PyObject <matplotlib.patches.Rectangle object at 0x145fc1c50>, PyObject <matplotlib.patches.Rectangle object at 0x145fc1f98>, PyObject <matplotlib.patches.Rectangle object at 0x145fc1fd0>, PyObject <matplotlib.patches.Rectangle object at 0x145fca668>, PyObject <matplotlib.patches.Rectangle object at 0x145fca9b0>, PyObject <matplotlib.patches.Rectangle object at 0x145fcacf8>, PyObject <matplotlib.patches.Rectangle object at 0x145fcae10>, PyObject <matplotlib.patches.Rectangle object at 0x145fd43c8>, PyObject <matplotlib.patches.Rectangle object at 0x145fd4710>, PyObject <matplotlib.patches.Rectangle object at 0x145fd4a58>, PyObject <matplotlib.patches.Rectangle object at 0x145fd4da0>, PyObject <matplotlib.patches.Rectangle object at 0x145fd4eb8>, PyObject <matplotlib.patches.Rectangle object at 0x145fdd470>, PyObject <matplotlib.patches.Rectangle object at 0x145fdd7b8>, PyObject <matplotlib.patches.Rectangle object at 0x145fddb00>, PyObject <matplotlib.patches.Rectangle object at 0x145fdde48>, PyObject <matplotlib.patches.Rectangle object at 0x145fddf60>, PyObject <matplotlib.patches.Rectangle object at 0x157c26518>, PyObject <matplotlib.patches.Rectangle object at 0x157c26860>, PyObject <matplotlib.patches.Rectangle object at 0x157c26ba8>, PyObject <matplotlib.patches.Rectangle object at 0x157c26ef0>, PyObject <matplotlib.patches.Rectangle object at 0x157c26f28>, PyObject <matplotlib.patches.Rectangle object at 0x157c215c0>, PyObject <matplotlib.patches.Rectangle object at 0x157c21908>, PyObject <matplotlib.patches.Rectangle object at 0x157c21c50>, PyObject <matplotlib.patches.Rectangle object at 0x157c21f98>, PyObject <matplotlib.patches.Rectangle object at 0x157c21fd0>, PyObject <matplotlib.patches.Rectangle object at 0x157c20668>, PyObject <matplotlib.patches.Rectangle object at 0x157c209b0>]\n"
     ]
    },
    {
     "ename": "MethodError",
     "evalue": "MethodError: no method matching -(::Float64, ::Array{Float64,2})\nClosest candidates are:\n  -(::Float64, !Matched::Float64) at float.jl:397\n  -(::Float64) at float.jl:387\n  -(!Matched::PyCall.PyObject, ::Any) at /Users/jakeroth/.julia/packages/PyCall/0jMpb/src/pyoperators.jl:14\n  ...",
     "output_type": "error",
     "traceback": [
      "MethodError: no method matching -(::Float64, ::Array{Float64,2})\nClosest candidates are:\n  -(::Float64, !Matched::Float64) at float.jl:397\n  -(::Float64) at float.jl:387\n  -(!Matched::PyCall.PyObject, ::Any) at /Users/jakeroth/.julia/packages/PyCall/0jMpb/src/pyoperators.jl:14\n  ...",
      "",
      "Stacktrace:",
      " [1] analytic(::State, ::State, ::Params) at /Users/jakeroth/Desktop/opensource/oscillator/mfpt.jl:137",
      " [2] #plot_diagnostics#48(::Int64, ::Function, ::Hist, ::Params) at /Users/jakeroth/Desktop/opensource/oscillator/mfpt.jl:350",
      " [3] (::getfield(Main, Symbol(\"#kw##plot_diagnostics\")))(::NamedTuple{(:subsample,),Tuple{Int64}}, ::typeof(plot_diagnostics), ::Hist, ::Params) at ./none:0",
      " [4] top-level scope at In[14]:3"
     ]
    }
   ],
   "source": [
    "# @time H = integrator_fix(S0, nsteps; PP=P, CC=C, ut=:baoab!);\n",
    "@time HH = integrator_fix(S0, Int64(1e7); PP=P, CC=C, ut=:euler!, max_cross=100000);\n",
    "plot_diagnostics(HH, P, subsample=10)"
   ]
  },
  {
   "cell_type": "code",
   "execution_count": null,
   "metadata": {
    "collapsed": true
   },
   "outputs": [],
   "source": [
    "median(HH.times)"
   ]
  },
  {
   "cell_type": "code",
   "execution_count": null,
   "metadata": {
    "collapsed": true
   },
   "outputs": [],
   "source": [
    "kk = kde(H.times)\n",
    "plot(kk.x, kk.density)"
   ]
  },
  {
   "cell_type": "code",
   "execution_count": null,
   "metadata": {
    "collapsed": true
   },
   "outputs": [],
   "source": [
    "mean(HH.times)"
   ]
  },
  {
   "cell_type": "code",
   "execution_count": null,
   "metadata": {
    "collapsed": true
   },
   "outputs": [],
   "source": [
    "1.0 / mean(HH.times)"
   ]
  },
  {
   "cell_type": "code",
   "execution_count": null,
   "metadata": {
    "collapsed": true
   },
   "outputs": [],
   "source": [
    "P.gamma * tau * 1.0 / (2*pi) * exp(-(V(0.0, k) - V(-1.0, k))/tau)"
   ]
  },
  {
   "cell_type": "code",
   "execution_count": null,
   "metadata": {
    "collapsed": true
   },
   "outputs": [],
   "source": [
    "1.0 / (2*pi*P.gamma) * exp(-(V(0.0, k) - V(-1.0, k))/tau)"
   ]
  },
  {
   "cell_type": "code",
   "execution_count": null,
   "metadata": {
    "collapsed": true
   },
   "outputs": [],
   "source": [
    "1.0 / (2*pi) * exp(-(V(0.0, k) - V(-1.0, k))/tau)"
   ]
  },
  {
   "cell_type": "code",
   "execution_count": null,
   "metadata": {
    "collapsed": true
   },
   "outputs": [],
   "source": [
    "1.0 / mean(H.times)"
   ]
  },
  {
   "cell_type": "code",
   "execution_count": null,
   "metadata": {
    "collapsed": true
   },
   "outputs": [],
   "source": [
    "#P.h = 0.0001\n",
    "#@time H = integrator_var(S0, 2; PP=P, CC=C, ut=:euler!);"
   ]
  },
  {
   "cell_type": "code",
   "execution_count": null,
   "metadata": {
    "collapsed": true
   },
   "outputs": [],
   "source": [
    "1/(0.035/0.025)"
   ]
  },
  {
   "cell_type": "code",
   "execution_count": null,
   "metadata": {
    "collapsed": true
   },
   "outputs": [],
   "source": [
    "P.h"
   ]
  },
  {
   "cell_type": "code",
   "execution_count": 6,
   "metadata": {},
   "outputs": [
    {
     "data": {
      "image/png": "[encoded data removed]",
      "text/plain": [
       "Figure(PyObject <Figure size 1000x800 with 3 Axes>)"
      ]
     },
     "metadata": {},
     "output_type": "display_data"
    },
    {
     "name": "stdout",
     "output_type": "stream",
     "text": [
      "138.431483 seconds (42.43 M allocations: 150.920 GiB, 32.18% gc time)\n",
      "PyCall.PyObject[PyObject <matplotlib.patches.Rectangle object at 0x16f97f470>, PyObject <matplotlib.patches.Rectangle object at 0x16c037748>, PyObject <matplotlib.patches.Rectangle object at 0x16f97fa58>, PyObject <matplotlib.patches.Rectangle object at 0x16f97fda0>, PyObject <matplotlib.patches.Rectangle object at 0x16f97feb8>, PyObject <matplotlib.patches.Rectangle object at 0x16f9ae470>, PyObject <matplotlib.patches.Rectangle object at 0x16f9ae7b8>, PyObject <matplotlib.patches.Rectangle object at 0x16f9aeb00>, PyObject <matplotlib.patches.Rectangle object at 0x16f9aee48>, PyObject <matplotlib.patches.Rectangle object at 0x16f9aef60>, PyObject <matplotlib.patches.Rectangle object at 0x16f9b9518>, PyObject <matplotlib.patches.Rectangle object at 0x16f9b9860>, PyObject <matplotlib.patches.Rectangle object at 0x16f9b9ba8>, PyObject <matplotlib.patches.Rectangle object at 0x16f9b9ef0>, PyObject <matplotlib.patches.Rectangle object at 0x16f9b9f28>, PyObject <matplotlib.patches.Rectangle object at 0x16f9c35c0>, PyObject <matplotlib.patches.Rectangle object at 0x16f9c3908>, PyObject <matplotlib.patches.Rectangle object at 0x16f9c3c50>, PyObject <matplotlib.patches.Rectangle object at 0x16f9c3f98>, PyObject <matplotlib.patches.Rectangle object at 0x16f9c3fd0>, PyObject <matplotlib.patches.Rectangle object at 0x16f9ce668>, PyObject <matplotlib.patches.Rectangle object at 0x16f9ce9b0>, PyObject <matplotlib.patches.Rectangle object at 0x16f9cecf8>, PyObject <matplotlib.patches.Rectangle object at 0x16f9cee10>, PyObject <matplotlib.patches.Rectangle object at 0x16f9d73c8>, PyObject <matplotlib.patches.Rectangle object at 0x16f9d7710>, PyObject <matplotlib.patches.Rectangle object at 0x16f9d7a58>, PyObject <matplotlib.patches.Rectangle object at 0x16f9d7da0>, PyObject <matplotlib.patches.Rectangle object at 0x16f9d7eb8>, PyObject <matplotlib.patches.Rectangle object at 0x145803470>, PyObject <matplotlib.patches.Rectangle object at 0x1458037b8>, PyObject <matplotlib.patches.Rectangle object at 0x145803b00>, PyObject <matplotlib.patches.Rectangle object at 0x145803e48>, PyObject <matplotlib.patches.Rectangle object at 0x145803f60>, PyObject <matplotlib.patches.Rectangle object at 0x145810518>, PyObject <matplotlib.patches.Rectangle object at 0x145810860>, PyObject <matplotlib.patches.Rectangle object at 0x145810ba8>, PyObject <matplotlib.patches.Rectangle object at 0x145810ef0>, PyObject <matplotlib.patches.Rectangle object at 0x145810f28>, PyObject <matplotlib.patches.Rectangle object at 0x1458195c0>, PyObject <matplotlib.patches.Rectangle object at 0x145819908>, PyObject <matplotlib.patches.Rectangle object at 0x145819c50>, PyObject <matplotlib.patches.Rectangle object at 0x145819f98>, PyObject <matplotlib.patches.Rectangle object at 0x145819fd0>, PyObject <matplotlib.patches.Rectangle object at 0x145823668>, PyObject <matplotlib.patches.Rectangle object at 0x1458239b0>, PyObject <matplotlib.patches.Rectangle object at 0x145823cf8>, PyObject <matplotlib.patches.Rectangle object at 0x145823e10>, PyObject <matplotlib.patches.Rectangle object at 0x14582c3c8>, PyObject <matplotlib.patches.Rectangle object at 0x14582c710>, PyObject <matplotlib.patches.Rectangle object at 0x14582ca58>, PyObject <matplotlib.patches.Rectangle object at 0x14582cda0>, PyObject <matplotlib.patches.Rectangle object at 0x14582ceb8>, PyObject <matplotlib.patches.Rectangle object at 0x145839470>, PyObject <matplotlib.patches.Rectangle object at 0x1458397b8>, PyObject <matplotlib.patches.Rectangle object at 0x145839b00>, PyObject <matplotlib.patches.Rectangle object at 0x145839e48>, PyObject <matplotlib.patches.Rectangle object at 0x145839f60>, PyObject <matplotlib.patches.Rectangle object at 0x1454e2518>, PyObject <matplotlib.patches.Rectangle object at 0x1454e2860>, PyObject <matplotlib.patches.Rectangle object at 0x1454e2ba8>, PyObject <matplotlib.patches.Rectangle object at 0x1454e2ef0>, PyObject <matplotlib.patches.Rectangle object at 0x1454e2f28>, PyObject <matplotlib.patches.Rectangle object at 0x1454ec5c0>, PyObject <matplotlib.patches.Rectangle object at 0x1454ec908>, PyObject <matplotlib.patches.Rectangle object at 0x1454ecc50>, PyObject <matplotlib.patches.Rectangle object at 0x1454ecf98>, PyObject <matplotlib.patches.Rectangle object at 0x1454ecfd0>, PyObject <matplotlib.patches.Rectangle object at 0x1454f6668>, PyObject <matplotlib.patches.Rectangle object at 0x1454f69b0>, PyObject <matplotlib.patches.Rectangle object at 0x1454f6cf8>, PyObject <matplotlib.patches.Rectangle object at 0x1454f6e10>, PyObject <matplotlib.patches.Rectangle object at 0x1455003c8>, PyObject <matplotlib.patches.Rectangle object at 0x145500710>, PyObject <matplotlib.patches.Rectangle object at 0x145500a58>, PyObject <matplotlib.patches.Rectangle object at 0x145500da0>, PyObject <matplotlib.patches.Rectangle object at 0x145500eb8>, PyObject <matplotlib.patches.Rectangle object at 0x14550b470>, PyObject <matplotlib.patches.Rectangle object at 0x14550b7b8>, PyObject <matplotlib.patches.Rectangle object at 0x14550bb00>, PyObject <matplotlib.patches.Rectangle object at 0x14550be48>, PyObject <matplotlib.patches.Rectangle object at 0x14550bf60>, PyObject <matplotlib.patches.Rectangle object at 0x145516518>, PyObject <matplotlib.patches.Rectangle object at 0x145516860>, PyObject <matplotlib.patches.Rectangle object at 0x145516ba8>, PyObject <matplotlib.patches.Rectangle object at 0x145516ef0>, PyObject <matplotlib.patches.Rectangle object at 0x145516f28>, PyObject <matplotlib.patches.Rectangle object at 0x1455205c0>, PyObject <matplotlib.patches.Rectangle object at 0x145520908>, PyObject <matplotlib.patches.Rectangle object at 0x145520c50>, PyObject <matplotlib.patches.Rectangle object at 0x145520f98>, PyObject <matplotlib.patches.Rectangle object at 0x145520fd0>, PyObject <matplotlib.patches.Rectangle object at 0x1455f1668>, PyObject <matplotlib.patches.Rectangle object at 0x1455f19b0>, PyObject <matplotlib.patches.Rectangle object at 0x1455f1cf8>, PyObject <matplotlib.patches.Rectangle object at 0x1455f1e10>, PyObject <matplotlib.patches.Rectangle object at 0x1455fa3c8>, PyObject <matplotlib.patches.Rectangle object at 0x1455fa710>, PyObject <matplotlib.patches.Rectangle object at 0x1455faa58>, PyObject <matplotlib.patches.Rectangle object at 0x1455fada0>]\n"
     ]
    }
   ],
   "source": [
    "@time H = integrator_var(S0, 500; PP=P, CC=C, ut=:euler!);\n",
    "plot_diagnostics(H, P, subsample=10)"
   ]
  },
  {
   "cell_type": "code",
   "execution_count": null,
   "metadata": {
    "collapsed": true
   },
   "outputs": [],
   "source": [
    "plot((0.5*HH.phist.^2 + 0.5*(HH.qhist .+ 1.0).^2)[1:10000:end])"
   ]
  },
  {
   "cell_type": "code",
   "execution_count": null,
   "metadata": {
    "collapsed": true
   },
   "outputs": [],
   "source": [
    "kk = kde(HH.times)\n",
    "plot(kk.x, kk.density)"
   ]
  },
  {
   "cell_type": "code",
   "execution_count": null,
   "metadata": {
    "collapsed": true
   },
   "outputs": [],
   "source": [
    "hist(HH.times)"
   ]
  },
  {
   "cell_type": "code",
   "execution_count": null,
   "metadata": {
    "collapsed": true
   },
   "outputs": [],
   "source": [
    "P.gamma * exp(-abs(V(P.limit, P.k) - V(-1, P.k)) / P.tau) / (2.0 * pi * P.tau)"
   ]
  },
  {
   "cell_type": "code",
   "execution_count": null,
   "metadata": {
    "collapsed": true
   },
   "outputs": [],
   "source": [
    "kk.x"
   ]
  },
  {
   "cell_type": "code",
   "execution_count": null,
   "metadata": {
    "collapsed": true
   },
   "outputs": [],
   "source": [
    "kk = kde(H.times)\n",
    "plot(kk.x, kk.density)"
   ]
  },
  {
   "cell_type": "code",
   "execution_count": null,
   "metadata": {
    "collapsed": true
   },
   "outputs": [],
   "source": [
    "lam = 1/mean(HH.times)"
   ]
  },
  {
   "cell_type": "code",
   "execution_count": null,
   "metadata": {
    "collapsed": true
   },
   "outputs": [],
   "source": [
    "hist(HH.times, bins=10, density=true)\n",
    "yscale(\"log\", nonposy=\"clip\")\n",
    "# x = collect(range(0, 3000, length=1000))\n",
    "plot(x, lam .* exp.(-lam .* x))"
   ]
  },
  {
   "cell_type": "code",
   "execution_count": null,
   "metadata": {
    "collapsed": true
   },
   "outputs": [],
   "source": [
    "mean(H.times)"
   ]
  },
  {
   "cell_type": "markdown",
   "metadata": {},
   "source": [
    "## long chain"
   ]
  },
  {
   "cell_type": "markdown",
   "metadata": {},
   "source": [
    "> (a)"
   ]
  },
  {
   "cell_type": "code",
   "execution_count": null,
   "metadata": {
    "collapsed": true
   },
   "outputs": [],
   "source": [
    "P.gamma = 0.01\n",
    "vars = [0.5, 0.4, 0.3, 0.25, 0.225, 0.2, 0.19, 0.18, 0.17, 0.16, 0.15, 0.145, 0.14, 0.135, 0.13, 0.125, 0.12]\n",
    "vari = :tau\n",
    "Ns = [1e7, 1e7, 1e7, 1e7, 1e7, 1e8, 1e8, 1e8, 1e8, 1e8, 1e8, 1e8, 1e8, 1e8, 1e8, 1e8, 1e8]\n",
    "Hsa = Array{Hist}(undef, length(vars))\n",
    "outsa = Array{Dict}(undef, length(vars))\n",
    "for z in zip(vars, 1:length(vars))    \n",
    "    v = z[1]\n",
    "    i = z[2]\n",
    "    printfmt(\"$(var): {:0.3e} ==================================================\\n\", v)\n",
    "    setfield!(P, vari, v)\n",
    "    @time H = integrator_fix(S0, Int64(Ns[i]); PP=P, CC=C, ut=:euler!, max_cross=Int64(1e5))\n",
    "    out = compare_results(H, P; S0=S0)\n",
    "    Hsa[i] = H\n",
    "    outsa[i] = out\n",
    "end"
   ]
  },
  {
   "cell_type": "code",
   "execution_count": null,
   "metadata": {
    "collapsed": true
   },
   "outputs": [],
   "source": [
    "fig = figure(figsize=(7,7))\n",
    "ax = fig[:add_subplot](2,1,1)\n",
    "ax[:loglog](vars, [outsa[i][:lam_dns] for i = 1:length(vars)], label=\"numerical rate\")\n",
    "ax[:loglog](vars, [outsa[i][:lam_ana]*(P.gamma^2/tau) for i = 1:length(vars)], label=\"analytic rate\", linestyle=\"--\")\n",
    "legend()\n",
    "ax = fig[:add_subplot](2,1,2)\n",
    "ax[:plot](vars, [outsa[i][:lam_dns] for i = 1:length(vars)]./[outsa[i][:lam_ana]*(P.gamma^2/tau) for i = 1:length(vars)], label=\"dns/analytic\")\n",
    "legend()"
   ]
  },
  {
   "cell_type": "markdown",
   "metadata": {},
   "source": [
    "> (b)"
   ]
  },
  {
   "cell_type": "code",
   "execution_count": 9,
   "metadata": {},
   "outputs": [
    {
     "name": "stdout",
     "output_type": "stream",
     "text": [
      "Statistics.var: 5.000e-01 ==================================================\n",
      "  1.155284 seconds (32.39 M allocations: 807.649 MiB, 24.10% gc time)\n",
      "crosses ~~~~~~~~~~~~~~~~~~~~~~~~~~~~~~~~~~~~~~~~~~~~~~~~~~~~~~~~~\n",
      "DNS crosses                                          : 37098\n",
      "DNS mean(time to cross) = (crosses / nsteps) / dt    : 3.710e+00\n",
      "\n",
      "exit time ~~~~~~~~~~~~~~~~~~~~~~~~~~~~~~~~~~~~~~~~~~~~~~~~~~~~~~~\n",
      "DNS-time mean(time to cross)                         : 2.696e-01\n",
      "ANA-time E[tau] = e^(|V(qt) - V(q0)| / tau)          : 2.718e+00\n",
      "exit time ratio DNS/ANA                              : 9.916e-02\n",
      "\n",
      "exit rate ~~~~~~~~~~~~~~~~~~~~~~~~~~~~~~~~~~~~~~~~~~~~~~~~~~~~~~~\n",
      "DNS-rate mean(rate)                                  : 3.710e+00\n",
      "ANA-rate lam = 1/(2pi*gam) e^(|V(qt) - V(q0)| / tau) : 4.151e-01\n",
      "exit rate ratio DNS/ANA                              : 8.937e+00\n",
      "~~~~~~~~~~~~~~~~~~~~~~~~~~~~~~~~~~~~~~~~~~~~~~~~~~~~~~~~~~~~~~~~~\n",
      "\n",
      "Statistics.var: 4.000e-01 ==================================================\n",
      "  1.009106 seconds (31.73 M allocations: 797.469 MiB, 19.61% gc time)\n",
      "crosses ~~~~~~~~~~~~~~~~~~~~~~~~~~~~~~~~~~~~~~~~~~~~~~~~~~~~~~~~~\n",
      "DNS crosses                                          : 29300\n",
      "DNS mean(time to cross) = (crosses / nsteps) / dt    : 2.930e+00\n",
      "\n",
      "exit time ~~~~~~~~~~~~~~~~~~~~~~~~~~~~~~~~~~~~~~~~~~~~~~~~~~~~~~~\n",
      "DNS-time mean(time to cross)                         : 3.413e-01\n",
      "ANA-time E[tau] = e^(|V(qt) - V(q0)| / tau)          : 3.490e+00\n",
      "exit time ratio DNS/ANA                              : 9.778e-02\n",
      "\n",
      "exit rate ~~~~~~~~~~~~~~~~~~~~~~~~~~~~~~~~~~~~~~~~~~~~~~~~~~~~~~~\n",
      "DNS-rate mean(rate)                                  : 2.930e+00\n",
      "ANA-rate lam = 1/(2pi*gam) e^(|V(qt) - V(q0)| / tau) : 3.614e-01\n",
      "exit rate ratio DNS/ANA                              : 8.106e+00\n",
      "~~~~~~~~~~~~~~~~~~~~~~~~~~~~~~~~~~~~~~~~~~~~~~~~~~~~~~~~~~~~~~~~~\n",
      "\n",
      "Statistics.var: 3.000e-01 ==================================================\n",
      "  0.948133 seconds (31.03 M allocations: 786.594 MiB, 20.39% gc time)\n",
      "crosses ~~~~~~~~~~~~~~~~~~~~~~~~~~~~~~~~~~~~~~~~~~~~~~~~~~~~~~~~~\n",
      "DNS crosses                                          : 19390\n",
      "DNS mean(time to cross) = (crosses / nsteps) / dt    : 1.939e+00\n",
      "\n",
      "exit time ~~~~~~~~~~~~~~~~~~~~~~~~~~~~~~~~~~~~~~~~~~~~~~~~~~~~~~~\n",
      "DNS-time mean(time to cross)                         : 5.157e-01\n",
      "ANA-time E[tau] = e^(|V(qt) - V(q0)| / tau)          : 5.294e+00\n",
      "exit time ratio DNS/ANA                              : 9.741e-02\n",
      "\n",
      "exit rate ~~~~~~~~~~~~~~~~~~~~~~~~~~~~~~~~~~~~~~~~~~~~~~~~~~~~~~~\n",
      "DNS-rate mean(rate)                                  : 1.939e+00\n",
      "ANA-rate lam = 1/(2pi*gam) e^(|V(qt) - V(q0)| / tau) : 2.751e-01\n",
      "exit rate ratio DNS/ANA                              : 7.048e+00\n",
      "~~~~~~~~~~~~~~~~~~~~~~~~~~~~~~~~~~~~~~~~~~~~~~~~~~~~~~~~~~~~~~~~~\n",
      "\n",
      "Statistics.var: 2.500e-01 ==================================================\n",
      "  0.940642 seconds (30.69 M allocations: 781.246 MiB, 20.50% gc time)\n",
      "crosses ~~~~~~~~~~~~~~~~~~~~~~~~~~~~~~~~~~~~~~~~~~~~~~~~~~~~~~~~~\n",
      "DNS crosses                                          : 14056\n",
      "DNS mean(time to cross) = (crosses / nsteps) / dt    : 1.406e+00\n",
      "\n",
      "exit time ~~~~~~~~~~~~~~~~~~~~~~~~~~~~~~~~~~~~~~~~~~~~~~~~~~~~~~~\n",
      "DNS-time mean(time to cross)                         : 7.114e-01\n",
      "ANA-time E[tau] = e^(|V(qt) - V(q0)| / tau)          : 7.389e+00\n",
      "exit time ratio DNS/ANA                              : 9.628e-02\n",
      "\n",
      "exit rate ~~~~~~~~~~~~~~~~~~~~~~~~~~~~~~~~~~~~~~~~~~~~~~~~~~~~~~~\n",
      "DNS-rate mean(rate)                                  : 1.406e+00\n",
      "ANA-rate lam = 1/(2pi*gam) e^(|V(qt) - V(q0)| / tau) : 2.160e-01\n",
      "exit rate ratio DNS/ANA                              : 6.509e+00\n",
      "~~~~~~~~~~~~~~~~~~~~~~~~~~~~~~~~~~~~~~~~~~~~~~~~~~~~~~~~~~~~~~~~~\n",
      "\n",
      "Statistics.var: 2.250e-01 ==================================================\n",
      "  0.948861 seconds (30.52 M allocations: 778.729 MiB, 20.29% gc time)\n",
      "crosses ~~~~~~~~~~~~~~~~~~~~~~~~~~~~~~~~~~~~~~~~~~~~~~~~~~~~~~~~~\n",
      "DNS crosses                                          : 11269\n",
      "DNS mean(time to cross) = (crosses / nsteps) / dt    : 1.127e+00\n",
      "\n",
      "exit time ~~~~~~~~~~~~~~~~~~~~~~~~~~~~~~~~~~~~~~~~~~~~~~~~~~~~~~~\n",
      "DNS-time mean(time to cross)                         : 8.874e-01\n",
      "ANA-time E[tau] = e^(|V(qt) - V(q0)| / tau)          : 9.228e+00\n",
      "exit time ratio DNS/ANA                              : 9.616e-02\n",
      "\n",
      "exit rate ~~~~~~~~~~~~~~~~~~~~~~~~~~~~~~~~~~~~~~~~~~~~~~~~~~~~~~~\n",
      "DNS-rate mean(rate)                                  : 1.127e+00\n",
      "ANA-rate lam = 1/(2pi*gam) e^(|V(qt) - V(q0)| / tau) : 1.823e-01\n",
      "exit rate ratio DNS/ANA                              : 6.182e+00\n",
      "~~~~~~~~~~~~~~~~~~~~~~~~~~~~~~~~~~~~~~~~~~~~~~~~~~~~~~~~~~~~~~~~~\n",
      "\n",
      "Statistics.var: 2.000e-01 ==================================================\n",
      "  8.651977 seconds (303.83 M allocations: 7.516 GiB, 7.87% gc time)\n",
      "crosses ~~~~~~~~~~~~~~~~~~~~~~~~~~~~~~~~~~~~~~~~~~~~~~~~~~~~~~~~~\n",
      "DNS crosses                                          : 83458\n",
      "DNS mean(time to cross) = (crosses / nsteps) / dt    : 8.346e-01\n",
      "\n",
      "exit time ~~~~~~~~~~~~~~~~~~~~~~~~~~~~~~~~~~~~~~~~~~~~~~~~~~~~~~~\n",
      "DNS-time mean(time to cross)                         : 1.198e+00\n",
      "ANA-time E[tau] = e^(|V(qt) - V(q0)| / tau)          : 1.218e+01\n",
      "exit time ratio DNS/ANA                              : 9.835e-02\n",
      "\n",
      "exit rate ~~~~~~~~~~~~~~~~~~~~~~~~~~~~~~~~~~~~~~~~~~~~~~~~~~~~~~~\n",
      "DNS-rate mean(rate)                                  : 8.346e-01\n",
      "ANA-rate lam = 1/(2pi*gam) e^(|V(qt) - V(q0)| / tau) : 1.464e-01\n",
      "exit rate ratio DNS/ANA                              : 5.699e+00\n",
      "~~~~~~~~~~~~~~~~~~~~~~~~~~~~~~~~~~~~~~~~~~~~~~~~~~~~~~~~~~~~~~~~~\n",
      "\n",
      "Statistics.var: 1.900e-01 ==================================================\n",
      "  9.852452 seconds (303.29 M allocations: 7.508 GiB, 6.44% gc time)\n",
      "crosses ~~~~~~~~~~~~~~~~~~~~~~~~~~~~~~~~~~~~~~~~~~~~~~~~~~~~~~~~~\n",
      "DNS crosses                                          : 72852\n",
      "DNS mean(time to cross) = (crosses / nsteps) / dt    : 7.285e-01\n",
      "\n",
      "exit time ~~~~~~~~~~~~~~~~~~~~~~~~~~~~~~~~~~~~~~~~~~~~~~~~~~~~~~~\n",
      "DNS-time mean(time to cross)                         : 1.373e+00\n",
      "ANA-time E[tau] = e^(|V(qt) - V(q0)| / tau)          : 1.390e+01\n",
      "exit time ratio DNS/ANA                              : 9.878e-02\n",
      "\n",
      "exit rate ~~~~~~~~~~~~~~~~~~~~~~~~~~~~~~~~~~~~~~~~~~~~~~~~~~~~~~~\n",
      "DNS-rate mean(rate)                                  : 7.285e-01\n",
      "ANA-rate lam = 1/(2pi*gam) e^(|V(qt) - V(q0)| / tau) : 1.317e-01\n",
      "exit rate ratio DNS/ANA                              : 5.531e+00\n",
      "~~~~~~~~~~~~~~~~~~~~~~~~~~~~~~~~~~~~~~~~~~~~~~~~~~~~~~~~~~~~~~~~~\n",
      "\n",
      "Statistics.var: 1.800e-01 ==================================================\n",
      " 10.445571 seconds (302.79 M allocations: 7.500 GiB, 6.87% gc time)\n",
      "crosses ~~~~~~~~~~~~~~~~~~~~~~~~~~~~~~~~~~~~~~~~~~~~~~~~~~~~~~~~~\n",
      "DNS crosses                                          : 62549\n",
      "DNS mean(time to cross) = (crosses / nsteps) / dt    : 6.255e-01\n",
      "\n",
      "exit time ~~~~~~~~~~~~~~~~~~~~~~~~~~~~~~~~~~~~~~~~~~~~~~~~~~~~~~~\n",
      "DNS-time mean(time to cross)                         : 1.599e+00\n",
      "ANA-time E[tau] = e^(|V(qt) - V(q0)| / tau)          : 1.608e+01\n",
      "exit time ratio DNS/ANA                              : 9.940e-02\n",
      "\n",
      "exit rate ~~~~~~~~~~~~~~~~~~~~~~~~~~~~~~~~~~~~~~~~~~~~~~~~~~~~~~~\n",
      "DNS-rate mean(rate)                                  : 6.255e-01\n",
      "ANA-rate lam = 1/(2pi*gam) e^(|V(qt) - V(q0)| / tau) : 1.169e-01\n",
      "exit rate ratio DNS/ANA                              : 5.349e+00\n",
      "~~~~~~~~~~~~~~~~~~~~~~~~~~~~~~~~~~~~~~~~~~~~~~~~~~~~~~~~~~~~~~~~~\n",
      "\n",
      "Statistics.var: 1.700e-01 ==================================================\n",
      " 10.354833 seconds (302.31 M allocations: 7.493 GiB, 7.93% gc time)\n",
      "crosses ~~~~~~~~~~~~~~~~~~~~~~~~~~~~~~~~~~~~~~~~~~~~~~~~~~~~~~~~~\n",
      "DNS crosses                                          : 53282\n",
      "DNS mean(time to cross) = (crosses / nsteps) / dt    : 5.328e-01\n",
      "\n",
      "exit time ~~~~~~~~~~~~~~~~~~~~~~~~~~~~~~~~~~~~~~~~~~~~~~~~~~~~~~~\n",
      "DNS-time mean(time to cross)                         : 1.877e+00\n",
      "ANA-time E[tau] = e^(|V(qt) - V(q0)| / tau)          : 1.894e+01\n",
      "exit time ratio DNS/ANA                              : 9.910e-02\n",
      "\n",
      "exit rate ~~~~~~~~~~~~~~~~~~~~~~~~~~~~~~~~~~~~~~~~~~~~~~~~~~~~~~~\n",
      "DNS-rate mean(rate)                                  : 5.328e-01\n",
      "ANA-rate lam = 1/(2pi*gam) e^(|V(qt) - V(q0)| / tau) : 1.022e-01\n",
      "exit rate ratio DNS/ANA                              : 5.215e+00\n",
      "~~~~~~~~~~~~~~~~~~~~~~~~~~~~~~~~~~~~~~~~~~~~~~~~~~~~~~~~~~~~~~~~~\n",
      "\n",
      "Statistics.var: 1.600e-01 ==================================================\n"
     ]
    },
    {
     "name": "stdout",
     "output_type": "stream",
     "text": [
      " 10.806975 seconds (301.88 M allocations: 7.487 GiB, 6.26% gc time)\n",
      "crosses ~~~~~~~~~~~~~~~~~~~~~~~~~~~~~~~~~~~~~~~~~~~~~~~~~~~~~~~~~\n",
      "DNS crosses                                          : 44358\n",
      "DNS mean(time to cross) = (crosses / nsteps) / dt    : 4.436e-01\n",
      "\n",
      "exit time ~~~~~~~~~~~~~~~~~~~~~~~~~~~~~~~~~~~~~~~~~~~~~~~~~~~~~~~\n",
      "DNS-time mean(time to cross)                         : 2.254e+00\n",
      "ANA-time E[tau] = e^(|V(qt) - V(q0)| / tau)          : 2.276e+01\n",
      "exit time ratio DNS/ANA                              : 9.905e-02\n",
      "\n",
      "exit rate ~~~~~~~~~~~~~~~~~~~~~~~~~~~~~~~~~~~~~~~~~~~~~~~~~~~~~~~\n",
      "DNS-rate mean(rate)                                  : 4.436e-01\n",
      "ANA-rate lam = 1/(2pi*gam) e^(|V(qt) - V(q0)| / tau) : 8.764e-02\n",
      "exit rate ratio DNS/ANA                              : 5.061e+00\n",
      "~~~~~~~~~~~~~~~~~~~~~~~~~~~~~~~~~~~~~~~~~~~~~~~~~~~~~~~~~~~~~~~~~\n",
      "\n",
      "Statistics.var: 1.500e-01 ==================================================\n",
      " 12.648656 seconds (301.49 M allocations: 7.481 GiB, 6.37% gc time)\n",
      "crosses ~~~~~~~~~~~~~~~~~~~~~~~~~~~~~~~~~~~~~~~~~~~~~~~~~~~~~~~~~\n",
      "DNS crosses                                          : 36356\n",
      "DNS mean(time to cross) = (crosses / nsteps) / dt    : 3.636e-01\n",
      "\n",
      "exit time ~~~~~~~~~~~~~~~~~~~~~~~~~~~~~~~~~~~~~~~~~~~~~~~~~~~~~~~\n",
      "DNS-time mean(time to cross)                         : 2.750e+00\n",
      "ANA-time E[tau] = e^(|V(qt) - V(q0)| / tau)          : 2.803e+01\n",
      "exit time ratio DNS/ANA                              : 9.812e-02\n",
      "\n",
      "exit rate ~~~~~~~~~~~~~~~~~~~~~~~~~~~~~~~~~~~~~~~~~~~~~~~~~~~~~~~\n",
      "DNS-rate mean(rate)                                  : 3.636e-01\n",
      "ANA-rate lam = 1/(2pi*gam) e^(|V(qt) - V(q0)| / tau) : 7.349e-02\n",
      "exit rate ratio DNS/ANA                              : 4.947e+00\n",
      "~~~~~~~~~~~~~~~~~~~~~~~~~~~~~~~~~~~~~~~~~~~~~~~~~~~~~~~~~~~~~~~~~\n",
      "\n",
      "Statistics.var: 1.450e-01 ==================================================\n",
      " 13.036931 seconds (301.31 M allocations: 7.478 GiB, 9.82% gc time)\n",
      "crosses ~~~~~~~~~~~~~~~~~~~~~~~~~~~~~~~~~~~~~~~~~~~~~~~~~~~~~~~~~\n",
      "DNS crosses                                          : 32370\n",
      "DNS mean(time to cross) = (crosses / nsteps) / dt    : 3.237e-01\n",
      "\n",
      "exit time ~~~~~~~~~~~~~~~~~~~~~~~~~~~~~~~~~~~~~~~~~~~~~~~~~~~~~~~\n",
      "DNS-time mean(time to cross)                         : 3.089e+00\n",
      "ANA-time E[tau] = e^(|V(qt) - V(q0)| / tau)          : 3.145e+01\n",
      "exit time ratio DNS/ANA                              : 9.824e-02\n",
      "\n",
      "exit rate ~~~~~~~~~~~~~~~~~~~~~~~~~~~~~~~~~~~~~~~~~~~~~~~~~~~~~~~\n",
      "DNS-rate mean(rate)                                  : 3.237e-01\n",
      "ANA-rate lam = 1/(2pi*gam) e^(|V(qt) - V(q0)| / tau) : 6.663e-02\n",
      "exit rate ratio DNS/ANA                              : 4.858e+00\n",
      "~~~~~~~~~~~~~~~~~~~~~~~~~~~~~~~~~~~~~~~~~~~~~~~~~~~~~~~~~~~~~~~~~\n",
      "\n",
      "Statistics.var: 1.400e-01 ==================================================\n",
      " 10.581922 seconds (301.14 M allocations: 7.475 GiB, 8.21% gc time)\n",
      "crosses ~~~~~~~~~~~~~~~~~~~~~~~~~~~~~~~~~~~~~~~~~~~~~~~~~~~~~~~~~\n",
      "DNS crosses                                          : 28464\n",
      "DNS mean(time to cross) = (crosses / nsteps) / dt    : 2.846e-01\n",
      "\n",
      "exit time ~~~~~~~~~~~~~~~~~~~~~~~~~~~~~~~~~~~~~~~~~~~~~~~~~~~~~~~\n",
      "DNS-time mean(time to cross)                         : 3.513e+00\n",
      "ANA-time E[tau] = e^(|V(qt) - V(q0)| / tau)          : 3.557e+01\n",
      "exit time ratio DNS/ANA                              : 9.877e-02\n",
      "\n",
      "exit rate ~~~~~~~~~~~~~~~~~~~~~~~~~~~~~~~~~~~~~~~~~~~~~~~~~~~~~~~\n",
      "DNS-rate mean(rate)                                  : 2.847e-01\n",
      "ANA-rate lam = 1/(2pi*gam) e^(|V(qt) - V(q0)| / tau) : 5.995e-02\n",
      "exit rate ratio DNS/ANA                              : 4.748e+00\n",
      "~~~~~~~~~~~~~~~~~~~~~~~~~~~~~~~~~~~~~~~~~~~~~~~~~~~~~~~~~~~~~~~~~\n",
      "\n",
      "Statistics.var: 1.350e-01 ==================================================\n",
      " 12.314691 seconds (300.99 M allocations: 7.473 GiB, 7.19% gc time)\n",
      "crosses ~~~~~~~~~~~~~~~~~~~~~~~~~~~~~~~~~~~~~~~~~~~~~~~~~~~~~~~~~\n",
      "DNS crosses                                          : 24818\n",
      "DNS mean(time to cross) = (crosses / nsteps) / dt    : 2.482e-01\n",
      "\n",
      "exit time ~~~~~~~~~~~~~~~~~~~~~~~~~~~~~~~~~~~~~~~~~~~~~~~~~~~~~~~\n",
      "DNS-time mean(time to cross)                         : 4.029e+00\n",
      "ANA-time E[tau] = e^(|V(qt) - V(q0)| / tau)          : 4.060e+01\n",
      "exit time ratio DNS/ANA                              : 9.924e-02\n",
      "\n",
      "exit rate ~~~~~~~~~~~~~~~~~~~~~~~~~~~~~~~~~~~~~~~~~~~~~~~~~~~~~~~\n",
      "DNS-rate mean(rate)                                  : 2.482e-01\n",
      "ANA-rate lam = 1/(2pi*gam) e^(|V(qt) - V(q0)| / tau) : 5.349e-02\n",
      "exit rate ratio DNS/ANA                              : 4.640e+00\n",
      "~~~~~~~~~~~~~~~~~~~~~~~~~~~~~~~~~~~~~~~~~~~~~~~~~~~~~~~~~~~~~~~~~\n",
      "\n",
      "Statistics.var: 1.300e-01 ==================================================\n",
      " 10.518537 seconds (300.84 M allocations: 7.471 GiB, 8.45% gc time)\n",
      "crosses ~~~~~~~~~~~~~~~~~~~~~~~~~~~~~~~~~~~~~~~~~~~~~~~~~~~~~~~~~\n",
      "DNS crosses                                          : 21376\n",
      "DNS mean(time to cross) = (crosses / nsteps) / dt    : 2.138e-01\n",
      "\n",
      "exit time ~~~~~~~~~~~~~~~~~~~~~~~~~~~~~~~~~~~~~~~~~~~~~~~~~~~~~~~\n",
      "DNS-time mean(time to cross)                         : 4.678e+00\n",
      "ANA-time E[tau] = e^(|V(qt) - V(q0)| / tau)          : 4.681e+01\n",
      "exit time ratio DNS/ANA                              : 9.992e-02\n",
      "\n",
      "exit rate ~~~~~~~~~~~~~~~~~~~~~~~~~~~~~~~~~~~~~~~~~~~~~~~~~~~~~~~\n",
      "DNS-rate mean(rate)                                  : 2.138e-01\n",
      "ANA-rate lam = 1/(2pi*gam) e^(|V(qt) - V(q0)| / tau) : 4.727e-02\n",
      "exit rate ratio DNS/ANA                              : 4.522e+00\n",
      "~~~~~~~~~~~~~~~~~~~~~~~~~~~~~~~~~~~~~~~~~~~~~~~~~~~~~~~~~~~~~~~~~\n",
      "\n",
      "Statistics.var: 1.250e-01 ==================================================\n",
      " 14.850624 seconds (300.71 M allocations: 7.469 GiB, 8.14% gc time)\n",
      "crosses ~~~~~~~~~~~~~~~~~~~~~~~~~~~~~~~~~~~~~~~~~~~~~~~~~~~~~~~~~\n",
      "DNS crosses                                          : 18311\n",
      "DNS mean(time to cross) = (crosses / nsteps) / dt    : 1.831e-01\n",
      "\n",
      "exit time ~~~~~~~~~~~~~~~~~~~~~~~~~~~~~~~~~~~~~~~~~~~~~~~~~~~~~~~\n",
      "DNS-time mean(time to cross)                         : 5.461e+00\n",
      "ANA-time E[tau] = e^(|V(qt) - V(q0)| / tau)          : 5.460e+01\n",
      "exit time ratio DNS/ANA                              : 1.000e-01\n",
      "\n",
      "exit rate ~~~~~~~~~~~~~~~~~~~~~~~~~~~~~~~~~~~~~~~~~~~~~~~~~~~~~~~\n",
      "DNS-rate mean(rate)                                  : 1.831e-01\n",
      "ANA-rate lam = 1/(2pi*gam) e^(|V(qt) - V(q0)| / tau) : 4.133e-02\n",
      "exit rate ratio DNS/ANA                              : 4.430e+00\n",
      "~~~~~~~~~~~~~~~~~~~~~~~~~~~~~~~~~~~~~~~~~~~~~~~~~~~~~~~~~~~~~~~~~\n",
      "\n",
      "Statistics.var: 1.200e-01 ==================================================\n",
      " 12.009109 seconds (300.60 M allocations: 7.467 GiB, 8.86% gc time)\n",
      "crosses ~~~~~~~~~~~~~~~~~~~~~~~~~~~~~~~~~~~~~~~~~~~~~~~~~~~~~~~~~\n",
      "DNS crosses                                          : 15660\n",
      "DNS mean(time to cross) = (crosses / nsteps) / dt    : 1.566e-01\n",
      "\n",
      "exit time ~~~~~~~~~~~~~~~~~~~~~~~~~~~~~~~~~~~~~~~~~~~~~~~~~~~~~~~\n",
      "DNS-time mean(time to cross)                         : 6.385e+00\n",
      "ANA-time E[tau] = e^(|V(qt) - V(q0)| / tau)          : 6.450e+01\n",
      "exit time ratio DNS/ANA                              : 9.899e-02\n",
      "\n",
      "exit rate ~~~~~~~~~~~~~~~~~~~~~~~~~~~~~~~~~~~~~~~~~~~~~~~~~~~~~~~\n",
      "DNS-rate mean(rate)                                  : 1.566e-01\n",
      "ANA-rate lam = 1/(2pi*gam) e^(|V(qt) - V(q0)| / tau) : 3.571e-02\n",
      "exit rate ratio DNS/ANA                              : 4.386e+00\n",
      "~~~~~~~~~~~~~~~~~~~~~~~~~~~~~~~~~~~~~~~~~~~~~~~~~~~~~~~~~~~~~~~~~\n",
      "\n",
      "Statistics.var: 1.000e-01 ==================================================\n",
      " 12.308765 seconds (300.24 M allocations: 7.462 GiB, 8.22% gc time)\n",
      "crosses ~~~~~~~~~~~~~~~~~~~~~~~~~~~~~~~~~~~~~~~~~~~~~~~~~~~~~~~~~\n",
      "DNS crosses                                          : 7087\n",
      "DNS mean(time to cross) = (crosses / nsteps) / dt    : 7.087e-02\n",
      "\n",
      "exit time ~~~~~~~~~~~~~~~~~~~~~~~~~~~~~~~~~~~~~~~~~~~~~~~~~~~~~~~\n",
      "DNS-time mean(time to cross)                         : 1.409e+01\n",
      "ANA-time E[tau] = e^(|V(qt) - V(q0)| / tau)          : 1.484e+02\n",
      "exit time ratio DNS/ANA                              : 9.494e-02\n",
      "\n",
      "exit rate ~~~~~~~~~~~~~~~~~~~~~~~~~~~~~~~~~~~~~~~~~~~~~~~~~~~~~~~\n",
      "DNS-rate mean(rate)                                  : 7.097e-02\n",
      "ANA-rate lam = 1/(2pi*gam) e^(|V(qt) - V(q0)| / tau) : 1.700e-02\n",
      "exit rate ratio DNS/ANA                              : 4.175e+00\n",
      "~~~~~~~~~~~~~~~~~~~~~~~~~~~~~~~~~~~~~~~~~~~~~~~~~~~~~~~~~~~~~~~~~\n",
      "\n",
      "Statistics.var: 8.000e-02 ==================================================\n"
     ]
    },
    {
     "name": "stdout",
     "output_type": "stream",
     "text": [
      " 14.362044 seconds (300.06 M allocations: 7.459 GiB, 7.79% gc time)\n",
      "crosses ~~~~~~~~~~~~~~~~~~~~~~~~~~~~~~~~~~~~~~~~~~~~~~~~~~~~~~~~~\n",
      "DNS crosses                                          : 1959\n",
      "DNS mean(time to cross) = (crosses / nsteps) / dt    : 1.959e-02\n",
      "\n",
      "exit time ~~~~~~~~~~~~~~~~~~~~~~~~~~~~~~~~~~~~~~~~~~~~~~~~~~~~~~~\n",
      "DNS-time mean(time to cross)                         : 5.093e+01\n",
      "ANA-time E[tau] = e^(|V(qt) - V(q0)| / tau)          : 5.180e+02\n",
      "exit time ratio DNS/ANA                              : 9.831e-02\n",
      "\n",
      "exit rate ~~~~~~~~~~~~~~~~~~~~~~~~~~~~~~~~~~~~~~~~~~~~~~~~~~~~~~~\n",
      "DNS-rate mean(rate)                                  : 1.964e-02\n",
      "ANA-rate lam = 1/(2pi*gam) e^(|V(qt) - V(q0)| / tau) : 5.446e-03\n",
      "exit rate ratio DNS/ANA                              : 3.606e+00\n",
      "~~~~~~~~~~~~~~~~~~~~~~~~~~~~~~~~~~~~~~~~~~~~~~~~~~~~~~~~~~~~~~~~~\n",
      "\n",
      "Statistics.var: 6.000e-02 ==================================================\n",
      " 14.096622 seconds (300.01 M allocations: 7.458 GiB, 8.08% gc time)\n",
      "crosses ~~~~~~~~~~~~~~~~~~~~~~~~~~~~~~~~~~~~~~~~~~~~~~~~~~~~~~~~~\n",
      "DNS crosses                                          : 227\n",
      "DNS mean(time to cross) = (crosses / nsteps) / dt    : 2.270e-03\n",
      "\n",
      "exit time ~~~~~~~~~~~~~~~~~~~~~~~~~~~~~~~~~~~~~~~~~~~~~~~~~~~~~~~\n",
      "DNS-time mean(time to cross)                         : 4.395e+02\n",
      "ANA-time E[tau] = e^(|V(qt) - V(q0)| / tau)          : 4.160e+03\n",
      "exit time ratio DNS/ANA                              : 1.056e-01\n",
      "\n",
      "exit rate ~~~~~~~~~~~~~~~~~~~~~~~~~~~~~~~~~~~~~~~~~~~~~~~~~~~~~~~\n",
      "DNS-rate mean(rate)                                  : 2.275e-03\n",
      "ANA-rate lam = 1/(2pi*gam) e^(|V(qt) - V(q0)| / tau) : 7.830e-04\n",
      "exit rate ratio DNS/ANA                              : 2.906e+00\n",
      "~~~~~~~~~~~~~~~~~~~~~~~~~~~~~~~~~~~~~~~~~~~~~~~~~~~~~~~~~~~~~~~~~\n",
      "\n"
     ]
    }
   ],
   "source": [
    "P.gamma = 2.0\n",
    "vars = [0.5, 0.4, 0.3, 0.25, 0.225, 0.2, 0.19, 0.18, 0.17, 0.16, 0.15, 0.145, 0.14, 0.135, 0.13, 0.125, 0.12, 0.10, 0.08, 0.06]\n",
    "vari = :tau\n",
    "Ns = [1e7, 1e7, 1e7, 1e7, 1e7, 1e8, 1e8, 1e8, 1e8, 1e8, 1e8, 1e8, 1e8, 1e8, 1e8, 1e8, 1e8, 1e8, 1e8, 1e8]\n",
    "Hsb = Array{Hist}(undef, length(vars))\n",
    "outsb = Array{Dict}(undef, length(vars))\n",
    "for z in zip(vars, 1:length(vars))    \n",
    "    v = z[1]\n",
    "    i = z[2]\n",
    "    printfmt(\"$(var): {:0.3e} ==================================================\\n\", v)\n",
    "    setfield!(P, vari, v)\n",
    "    @time H = integrator_fix(S0, Int64(Ns[i]); PP=P, CC=C, ut=:euler!, max_cross=Int64(1e6))\n",
    "    out = compare_results(H, P; S0=S0)\n",
    "    Hsb[i] = H\n",
    "    outsb[i] = out\n",
    "end"
   ]
  },
  {
   "cell_type": "code",
   "execution_count": 10,
   "metadata": {},
   "outputs": [
    {
     "data": {
      "image/png": "[encoded data removed]",
      "text/plain": [
       "Figure(PyObject <Figure size 700x700 with 2 Axes>)"
      ]
     },
     "metadata": {},
     "output_type": "display_data"
    },
    {
     "data": {
      "text/plain": [
       "PyObject <matplotlib.legend.Legend object at 0x1604b04e0>"
      ]
     },
     "execution_count": 10,
     "metadata": {},
     "output_type": "execute_result"
    }
   ],
   "source": [
    "fig = figure(figsize=(7,7))\n",
    "ax = fig[:add_subplot](2,1,1)\n",
    "ax[:loglog](vars, [outsb[i][:lam_dns] for i = 1:length(vars)], label=\"numerical rate\")\n",
    "ax[:loglog](vars, [outsb[i][:lam_ana] for i = 1:length(vars)], label=\"analytic rate\", linestyle=\"--\")\n",
    "legend()\n",
    "ax = fig[:add_subplot](2,1,2)\n",
    "ax[:plot](vars, [outsb[i][:lam_dns] for i = 1:length(vars)]./[outsb[i][:lam_ana] for i = 1:length(vars)], label=\"dns/analytic\")\n",
    "legend()"
   ]
  },
  {
   "cell_type": "markdown",
   "metadata": {},
   "source": [
    "> (c)"
   ]
  },
  {
   "cell_type": "code",
   "execution_count": null,
   "metadata": {
    "collapsed": true
   },
   "outputs": [],
   "source": [
    "P.gamma = 100.0\n",
    "vars = [0.5, 0.4, 0.3, 0.25, 0.225, 0.2, 0.19, 0.18, 0.17, 0.16, 0.15, 0.145, 0.14, 0.135, 0.13, 0.125, 0.12]\n",
    "vari = :tau\n",
    "Ns = [1e7, 1e7, 1e7, 1e7, 1e7, 1e8, 1e8, 1e8, 1e8, 1e8, 1e8, 1e8, 1e8, 1e8, 1e8, 1e8, 1e8]\n",
    "Hsc = Array{Hist}(undef, length(vars))\n",
    "outsc = Array{Dict}(undef, length(vars))\n",
    "for z in zip(vars, 1:length(vars))    \n",
    "    v = z[1]\n",
    "    i = z[2]\n",
    "    printfmt(\"$(var): {:0.3e} ==================================================\\n\", v)\n",
    "    setfield!(P, vari, v)\n",
    "    @time H = integrator_fix(S0, Int64(Ns[i]); PP=P, CC=C, ut=:euler!, max_cross=Int64(1e5))\n",
    "    out = compare_results(H, P; S0=S0)\n",
    "    Hsc[i] = H\n",
    "    outsc[i] = out\n",
    "end"
   ]
  },
  {
   "cell_type": "code",
   "execution_count": null,
   "metadata": {
    "collapsed": true
   },
   "outputs": [],
   "source": [
    "fig = figure(figsize=(7,7))\n",
    "ax = fig[:add_subplot](2,1,1)\n",
    "ax[:loglog](vars, [outsc[i][:lam_dns] for i = 1:length(vars)], label=\"numerical rate\")\n",
    "ax[:loglog](vars, [outsc[i][:lam_ana] for i = 1:length(vars)], label=\"analytic rate\", linestyle=\"--\")\n",
    "legend()\n",
    "ax = fig[:add_subplot](2,1,2)\n",
    "ax[:plot](vars, [outsc[i][:lam_dns] for i = 1:length(vars)]./[outsc[i][:lam_ana] for i = 1:length(vars)], label=\"dns/analytic\")\n",
    "legend()"
   ]
  },
  {
   "cell_type": "markdown",
   "metadata": {},
   "source": [
    "## until failure"
   ]
  },
  {
   "cell_type": "markdown",
   "metadata": {},
   "source": [
    "> (a)"
   ]
  },
  {
   "cell_type": "code",
   "execution_count": null,
   "metadata": {
    "collapsed": true
   },
   "outputs": [],
   "source": [
    "P.gamma = 0.01\n",
    "vars = [0.5, 0.4, 0.3, 0.25, 0.225, 0.2, 0.19, 0.18, 0.17, 0.16, 0.15, 0.145, 0.14, 0.135, 0.13, 0.125, 0.12]\n",
    "vari = :tau\n",
    "Nfail = 100\n",
    "HHsa = Array{Hist}(undef, length(vars))\n",
    "ooutsa = Array{Dict}(undef, length(vars))\n",
    "for z in zip(vars, 1:length(vars))    \n",
    "    v = z[1]\n",
    "    i = z[2]\n",
    "    printfmt(\"$(var): {:0.3e} ==================================================\\n\", v)\n",
    "    setfield!(P, vari, v)\n",
    "    @time H = integrator_var(S0, Nfail; PP=P, CC=C, ut=:euler!)\n",
    "    out = compare_results(H, P; S0=S0)\n",
    "    HHsa[i] = H\n",
    "    ooutsa[i] = out\n",
    "end"
   ]
  },
  {
   "cell_type": "code",
   "execution_count": null,
   "metadata": {
    "collapsed": true
   },
   "outputs": [],
   "source": [
    "fig = figure(figsize=(7,7))\n",
    "ax = fig[:add_subplot](2,1,1)\n",
    "ax[:loglog](vars, [ooutsa[i][:lam_dns] for i = 1:length(vars)], label=\"numerical rate\")\n",
    "ax[:loglog](vars, [ooutsa[i][:lam_ana]*(gamma) for i = 1:length(vars)], label=\"analytic rate\", linestyle=\"--\")\n",
    "legend()\n",
    "ax = fig[:add_subplot](2,1,2)\n",
    "ax[:plot](vars, [ooutsa[i][:lam_dns] for i = 1:length(vars)]./[ooutsa[i][:lam_ana]*(gamma) for i = 1:length(vars)], label=\"numerical rate\")\n",
    "legend()"
   ]
  },
  {
   "cell_type": "markdown",
   "metadata": {},
   "source": [
    "> (b)"
   ]
  },
  {
   "cell_type": "code",
   "execution_count": null,
   "metadata": {
    "collapsed": true
   },
   "outputs": [],
   "source": [
    "P.gamma = 2.0\n",
    "vars = [0.5, 0.4, 0.3, 0.25, 0.225, 0.2, 0.19, 0.18, 0.17, 0.16, 0.15, 0.145, 0.14, 0.135, 0.13, 0.125, 0.12, 0.10, 0.08, 0.06]\n",
    "vari = :tau\n",
    "Nfail = 100\n",
    "HHsb = Array{Hist}(undef, length(vars))\n",
    "ooutsb = Array{Dict}(undef, length(vars))\n",
    "for z in zip(vars, 1:length(vars))    \n",
    "    v = z[1]\n",
    "    i = z[2]\n",
    "    printfmt(\"$(var): {:0.3e} ==================================================\\n\", v)\n",
    "    setfield!(P, vari, v)\n",
    "    @time H = integrator_var(S0, Nfail; PP=P, CC=C, ut=:euler!)\n",
    "    out = compare_results(H, P; S0=S0)\n",
    "    HHsb[i] = H\n",
    "    ooutsb[i] = out\n",
    "end"
   ]
  },
  {
   "cell_type": "code",
   "execution_count": null,
   "metadata": {
    "collapsed": true
   },
   "outputs": [],
   "source": [
    "fig = figure(figsize=(7,7))\n",
    "ax = fig[:add_subplot](2,1,1)\n",
    "ax[:loglog](vars, [ooutsb[i][:lam_dns] for i = 1:length(vars)], label=\"numerical rate\")\n",
    "# ax[:loglog](vars, [ooutsb[i][:lam_ana]*gamma for i = 1:length(vars)], label=\"analytic rate\", linestyle=\"--\")\n",
    "ax[:loglog](vars, [ooutsb[i][:lam_ana] for i = 1:length(vars)], label=\"analytic rate\", linestyle=\"--\")\n",
    "legend()\n",
    "ax = fig[:add_subplot](2,1,2)\n",
    "# ax[:plot](vars, [ooutsb[i][:lam_dns] for i = 1:length(vars)]./[ooutsb[i][:lam_ana]*gamma for i = 1:length(vars)], label=\"numerical rate\")\n",
    "ax[:plot](vars, [ooutsb[i][:lam_dns] for i = 1:length(vars)]./[ooutsb[i][:lam_ana] for i = 1:length(vars)], label=\"numerical rate\")\n",
    "legend()"
   ]
  },
  {
   "cell_type": "markdown",
   "metadata": {},
   "source": [
    "> (c)"
   ]
  },
  {
   "cell_type": "code",
   "execution_count": null,
   "metadata": {
    "collapsed": true
   },
   "outputs": [],
   "source": [
    "P.gamma = 100.0\n",
    "vars = [0.5, 0.4, 0.3, 0.25, 0.225, 0.2, 0.19, 0.18, 0.17, 0.16, 0.15, 0.145, 0.14, 0.135, 0.13, 0.125, 0.12]\n",
    "vari = :tau\n",
    "Nfail = 100\n",
    "HHsc = Array{Hist}(undef, length(vars))\n",
    "ooutsc = Array{Dict}(undef, length(vars))\n",
    "for z in zip(vars, 1:length(vars))    \n",
    "    v = z[1]\n",
    "    i = z[2]\n",
    "    printfmt(\"$(var): {:0.3e} ==================================================\\n\", v)\n",
    "    setfield!(P, vari, v)\n",
    "    @time H = integrator_var(S0, Nfail; PP=P, CC=C, ut=:euler!)\n",
    "    out = compare_results(H, P; S0=S0)\n",
    "    HHsc[i] = H\n",
    "    ooutsc[i] = out\n",
    "end"
   ]
  },
  {
   "cell_type": "code",
   "execution_count": null,
   "metadata": {
    "collapsed": true
   },
   "outputs": [],
   "source": [
    "fig = figure(figsize=(7,7))\n",
    "ax = fig[:add_subplot](2,1,1)\n",
    "ax[:loglog](vars, [ooutsc[i][:lam_dns] for i = 1:length(vars)], label=\"numerical rate\")\n",
    "ax[:loglog](vars, [ooutsc[i][:lam_ana] for i = 1:length(vars)], label=\"analytic rate\", linestyle=\"--\")\n",
    "legend()\n",
    "ax = fig[:add_subplot](2,1,2)\n",
    "ax[:plot](vars, [ooutsc[i][:lam_dns] for i = 1:length(vars)]./[ooutsc[i][:lam_ana] for i = 1:length(vars)], label=\"numerical rate\")\n",
    "legend()"
   ]
  },
  {
   "cell_type": "code",
   "execution_count": null,
   "metadata": {
    "collapsed": true
   },
   "outputs": [],
   "source": []
  },
  {
   "cell_type": "code",
   "execution_count": null,
   "metadata": {
    "collapsed": true
   },
   "outputs": [],
   "source": []
  },
  {
   "cell_type": "code",
   "execution_count": null,
   "metadata": {
    "collapsed": true
   },
   "outputs": [],
   "source": []
  },
  {
   "cell_type": "code",
   "execution_count": null,
   "metadata": {
    "collapsed": true
   },
   "outputs": [],
   "source": [
    "hist(Hsa[1].phist[Int.(round.(Hsa[1].times./h)).-200], bins=30)"
   ]
  },
  {
   "cell_type": "markdown",
   "metadata": {},
   "source": [
    "## other..."
   ]
  },
  {
   "cell_type": "code",
   "execution_count": null,
   "metadata": {
    "collapsed": true
   },
   "outputs": [],
   "source": [
    "include(\"mfpt.jl\")"
   ]
  },
  {
   "cell_type": "code",
   "execution_count": null,
   "metadata": {
    "collapsed": true
   },
   "outputs": [],
   "source": [
    "vars = [0.5, 0.4, 0.3, 0.25, 0.225]#, 0.2, 0.19, 0.18, 0.17, 0.16, 0.15, 0.145, 0.14, 0.135, 0.13, 0.125, 0.12]\n",
    "var = :tau\n",
    "Ns = [1e7, 1e7, 1e7, 1e7, 1e7]#, 1e8, 1e8, 1e8, 1e8, 1e8, 1e8, 1e8, 1e8, 1e8, 1e8, 1e8, 1e8]\n",
    "Hs = Array{Hist}(undef, length(vars))\n",
    "outs = Array{Dict}(undef, length(vars))\n",
    "for z in zip(vars, 1:length(vars))    \n",
    "    v = z[1]\n",
    "    i = z[2]\n",
    "    printfmt(\"$(var): {:0.3e} ==================================================\\n\", v)\n",
    "    setfield!(P, var, v)\n",
    "    @time H = integrator_fix(S0, Int64(Ns[i]); PP=P, CC=C, ut=:euler2!, max_cross=Int64(1e7))\n",
    "    out = compare_results(H, P; S0=S0)\n",
    "    Hs[i] = H\n",
    "    outs[i] = out\n",
    "end"
   ]
  },
  {
   "cell_type": "code",
   "execution_count": null,
   "metadata": {
    "collapsed": true
   },
   "outputs": [],
   "source": [
    "fig = figure(figsize=(7,7))\n",
    "ax = fig[:add_subplot](2,1,1)\n",
    "ax[:loglog](vars, [outs[i][:lam_dns] for i = 1:length(vars)], label=\"numerical rate\")\n",
    "ax[:loglog](vars, [outs[i][:lam_ana] for i = 1:length(vars)], label=\"analytic rate\")\n",
    "legend()\n",
    "ax = fig[:add_subplot](2,1,2)\n",
    "ax[:plot](vars, [outs[i][:lam_dns] for i = 1:length(vars)]./[2.0*pi*outs[i][:lam_ana] for i = 1:length(vars)], label=\"numerical rate\")\n",
    "legend()"
   ]
  },
  {
   "cell_type": "code",
   "execution_count": null,
   "metadata": {
    "collapsed": true
   },
   "outputs": [],
   "source": [
    "plot(Hs[1].qhist[1:100000])"
   ]
  },
  {
   "cell_type": "code",
   "execution_count": null,
   "metadata": {
    "collapsed": true
   },
   "outputs": [],
   "source": []
  },
  {
   "cell_type": "code",
   "execution_count": null,
   "metadata": {
    "collapsed": true
   },
   "outputs": [],
   "source": []
  },
  {
   "cell_type": "markdown",
   "metadata": {},
   "source": [
    "## discretization and noise"
   ]
  },
  {
   "cell_type": "code",
   "execution_count": null,
   "metadata": {
    "collapsed": true
   },
   "outputs": [],
   "source": [
    "a=-10\n",
    "b=c=d=1\n",
    "N = 100000"
   ]
  },
  {
   "cell_type": "code",
   "execution_count": null,
   "metadata": {
    "collapsed": true
   },
   "outputs": [],
   "source": [
    "sqrt(2.0*tau*h)*(noise==true)"
   ]
  },
  {
   "cell_type": "code",
   "execution_count": null,
   "metadata": {
    "collapsed": true
   },
   "outputs": [],
   "source": [
    "y0 = 0\n",
    "v0 = 10\n",
    "h = 0.001\n",
    "tau = 0.01\n",
    "Random.seed!(1234)\n",
    "noise = true\n",
    "\n",
    "y = copy(y0)\n",
    "v = copy(v0)\n",
    "ys = zeros(N)\n",
    "for i = 1:N\n",
    "    z = randn()*sqrt(2.0*tau*h)*(noise==true)\n",
    "    y += v * h + z\n",
    "    v += ((a*v^2) / (b*v + c*y + d)) * h\n",
    "    ys[i] = y\n",
    "end\n",
    "plot(ys)"
   ]
  },
  {
   "cell_type": "code",
   "execution_count": null,
   "metadata": {
    "collapsed": true
   },
   "outputs": [],
   "source": [
    "sqrt(2.0*tau*h)*(noise==true)/h^(0.25)"
   ]
  },
  {
   "cell_type": "code",
   "execution_count": null,
   "metadata": {
    "collapsed": true
   },
   "outputs": [],
   "source": [
    "y0 = 0.0\n",
    "y1 = 0.1\n",
    "y2 = copy(y0)\n",
    "h = 0.001\n",
    "tau = 0.01\n",
    "Random.seed!(1234)\n",
    "noise = true\n",
    "\n",
    "y2s = zeros(N)\n",
    "for i = 1:N\n",
    "    z = randn()*sqrt(2.0*tau*h)*(noise==true)\n",
    "    y2 = 2*y1 - y0 + a*h*(y1-y0)^2 / (b*(y1-y0) + c*h*y1 + d*h) + z\n",
    "    y0 = y1 + z\n",
    "    y1 = y2 + 0\n",
    "    y2s[i] = y2\n",
    "end\n",
    "plot(y2s)\n",
    "plot(ys)"
   ]
  },
  {
   "cell_type": "code",
   "execution_count": null,
   "metadata": {
    "collapsed": true
   },
   "outputs": [],
   "source": [
    "y0 = 0\n",
    "v0 = 10\n",
    "h = 0.001\n",
    "tau = 0.01\n",
    "Random.seed!(1234)\n",
    "noise = true\n",
    "\n",
    "y = copy(y0)\n",
    "v = copy(v0)\n",
    "ys = zeros(N)\n",
    "for i = 1:N\n",
    "    z = randn()*sqrt(2.0*tau*h)*(noise==true)\n",
    "    y += v * h \n",
    "    v += ((a*v^2) / (b*v + c*y + d)) * h + z\n",
    "    ys[i] = y\n",
    "end\n",
    "# plot(y2s)\n",
    "plot(ys)"
   ]
  },
  {
   "cell_type": "code",
   "execution_count": null,
   "metadata": {
    "collapsed": true
   },
   "outputs": [],
   "source": [
    "semilogy(y2s-ys)"
   ]
  }
 ],
 "metadata": {
  "kernelspec": {
   "display_name": "Julia 1.0.0",
   "language": "julia",
   "name": "julia-1.0"
  },
  "language_info": {
   "file_extension": ".jl",
   "mimetype": "application/julia",
   "name": "julia",
   "version": "1.0.0"
  },
  "toc": {
   "nav_menu": {},
   "number_sections": true,
   "sideBar": true,
   "skip_h1_title": false,
   "toc_cell": false,
   "toc_position": {},
   "toc_section_display": "block",
   "toc_window_display": false
  }
 },
 "nbformat": 4,
 "nbformat_minor": 2
}
